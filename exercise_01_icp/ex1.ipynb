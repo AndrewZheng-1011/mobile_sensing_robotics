{
 "cells": [
  {
   "cell_type": "markdown",
   "metadata": {},
   "source": [
    "# Exercise 1 - ICP\n",
    "\n",
    "In this exercise you will implement the ICP algorithm for a small 2D example dataset. "
   ]
  },
  {
   "cell_type": "markdown",
   "metadata": {},
   "source": [
    "## 1.1 ICP with given correspondences [5]\n",
    "\n",
    "Implement ICP if the point correspondences are given. \n",
    "A starting point for this exercise is given as follows. "
   ]
  },
  {
   "cell_type": "code",
   "execution_count": 3,
   "metadata": {},
   "outputs": [
    {
     "ename": "ModuleNotFoundError",
     "evalue": "No module named 'ex1'",
     "output_type": "error",
     "traceback": [
      "\u001b[31m---------------------------------------------------------------------------\u001b[39m",
      "\u001b[31mModuleNotFoundError\u001b[39m                       Traceback (most recent call last)",
      "\u001b[36mCell\u001b[39m\u001b[36m \u001b[39m\u001b[32mIn[3]\u001b[39m\u001b[32m, line 1\u001b[39m\n\u001b[32m----> \u001b[39m\u001b[32m1\u001b[39m \u001b[38;5;28;01mimport\u001b[39;00m\u001b[38;5;250m \u001b[39m\u001b[34;01mex1\u001b[39;00m\u001b[38;5;250m \u001b[39m\u001b[38;5;28;01mas\u001b[39;00m\u001b[38;5;250m \u001b[39m\u001b[34;01mex\u001b[39;00m\n\u001b[32m      2\u001b[39m \u001b[38;5;28;01mimport\u001b[39;00m\u001b[38;5;250m \u001b[39m\u001b[34;01mnumpy\u001b[39;00m\u001b[38;5;250m \u001b[39m\u001b[38;5;28;01mas\u001b[39;00m\u001b[38;5;250m \u001b[39m\u001b[34;01mnp\u001b[39;00m\n\u001b[32m      3\u001b[39m \u001b[38;5;28;01mimport\u001b[39;00m\u001b[38;5;250m \u001b[39m\u001b[34;01mmatplotlib\u001b[39;00m\u001b[34;01m.\u001b[39;00m\u001b[34;01mpyplot\u001b[39;00m\u001b[38;5;250m \u001b[39m\u001b[38;5;28;01mas\u001b[39;00m\u001b[38;5;250m \u001b[39m\u001b[34;01mplt\u001b[39;00m\n",
      "\u001b[31mModuleNotFoundError\u001b[39m: No module named 'ex1'"
     ]
    }
   ],
   "source": [
    "import ex1 as ex\n",
    "import numpy as np\n",
    "import matplotlib.pyplot as plt\n",
    "\n",
    "Data = np.load('icp_data.npz')\n",
    "Line1 = Data['LineGroundTruth']\n",
    "Line2 = Data['LineMovedCorresp']\n",
    "    \n",
    "# Show the initial positions of the lines\n",
    "ex.show_figure(Line1, Line2)"
   ]
  },
  {
   "cell_type": "markdown",
   "metadata": {},
   "source": [
    "Following the missing parts in the algorithm, you will need to: \n",
    "  - compute mean point of an array of points in function **compute_mean()**;\n",
    "  - compute cross covariance matrix **W** in **function compute_W()**;\n",
    "  - compute estimated rotation and translation via **SVD** in function **compute_R_t()**;\n",
    "  - apply the estimated rotation and translation and find the value of the squared error function to discover how good the estimated positions are in function **compute_error()**;\n",
    "  - complete the fuction **icp_known_corresp()**.\n",
    "\n",
    "Refer to the lecture slides for all the details. \n",
    "\n",
    "After you have implemented all the above, you should run the following code correctly and get the aligned Line1 and Line2."
   ]
  },
  {
   "cell_type": "code",
   "execution_count": null,
   "metadata": {},
   "outputs": [],
   "source": [
    "# We assume that the there are 1 to 1 correspondences for this data\n",
    "QInd = np.arange(len(Line1[0]))\n",
    "PInd = np.arange(len(Line2[0]))\n",
    "\n",
    "# Perform icp given the correspondences\n",
    "[Line2, E] = ex.icp_known_corresp(Line1, Line2, QInd, PInd)\n",
    "\n",
    "# Show the adjusted positions of the lines\n",
    "ex.show_figure(Line1, Line2)\n",
    "\n",
    "# print the error\n",
    "print('Error value is: ', E)"
   ]
  },
  {
   "cell_type": "markdown",
   "metadata": {},
   "source": [
    "## 1.2 ICP without given correspondences [5]\n",
    "\n",
    "Use the result of your code from the first question, to implement the full ICP algorithm.\n",
    "\n",
    "When the point correspondences are not available. You will need to iteratively find the point correspondences and using these perform the ICP updates. \n",
    "\n",
    "A starting point for this exercise is given as follows.\n",
    "\n",
    "Make you algorithm stop after convergence. \n",
    "\n",
    "**Hint:** The **NearestNeighbors** functions of **sklearn** library can be useful in this task."
   ]
  },
  {
   "cell_type": "code",
   "execution_count": null,
   "metadata": {},
   "outputs": [],
   "source": [
    "Data = np.load('icp_data.npz')\n",
    "Line1 = Data['LineGroundTruth']\n",
    "Line2 = Data['LineMovedNoCorresp']\n",
    "\n",
    "MaxIter = 100\n",
    "Epsilon = 0.001\n",
    "E = np.inf\n",
    "\n",
    "# show figure\n",
    "ex.show_figure(Line1, Line2)\n",
    "    \n",
    "for i in range(MaxIter):\n",
    "\n",
    "    # TODO: find correspondences of points\n",
    "    # point with index QInd(1, k) from Line1 corresponds to\n",
    "    # point with index PInd(1, k) from Line2\n",
    "    QInd = ...\n",
    "    PInd = ...\n",
    "\n",
    "    # update Line2 and error\n",
    "    # Now that you know the correspondences, use your implementation\n",
    "    # of icp with known correspondences and perform an update\n",
    "    EOld = E\n",
    "    [Line2, E] = ex.icp_known_corresp(Line1, Line2, QInd, PInd)\n",
    "        \n",
    "    print('Error value on ' + str(i) + ' iteration is: ', E)\n",
    "\n",
    "    # TODO: perform the check if we need to stop iterating\n",
    "    ..."
   ]
  },
  {
   "cell_type": "code",
   "execution_count": null,
   "metadata": {},
   "outputs": [],
   "source": []
  }
 ],
 "metadata": {
  "kernelspec": {
   "display_name": "mobile_sensing",
   "language": "python",
   "name": "python3"
  },
  "language_info": {
   "codemirror_mode": {
    "name": "ipython",
    "version": 3
   },
   "file_extension": ".py",
   "mimetype": "text/x-python",
   "name": "python",
   "nbconvert_exporter": "python",
   "pygments_lexer": "ipython3",
   "version": "3.13.5"
  }
 },
 "nbformat": 4,
 "nbformat_minor": 4
}
